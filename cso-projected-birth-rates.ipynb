{
 "cells": [
  {
   "cell_type": "markdown",
   "id": "1d1a83d8",
   "metadata": {},
   "source": [
    "# Imports"
   ]
  },
  {
   "cell_type": "code",
   "execution_count": 1,
   "id": "863db188",
   "metadata": {},
   "outputs": [],
   "source": [
    "# Dataframes\n",
    "import pandas as pd\n",
    "\n",
    "# CSV\n",
    "import csv\n",
    "\n",
    "# Plotting\n",
    "import matplotlib.pyplot as plt\n",
    "\n",
    "# Numerical computing\n",
    "import numpy as np"
   ]
  },
  {
   "cell_type": "markdown",
   "id": "fc74aa88",
   "metadata": {},
   "source": [
    "## 1: Read in the Dataset"
   ]
  },
  {
   "cell_type": "markdown",
   "id": "1f9d919f",
   "metadata": {},
   "source": [
    "#### I downloaded the csv file from github (andrewbeattycourseware) and then read in the dataset using Pandas"
   ]
  },
  {
   "cell_type": "code",
   "execution_count": 2,
   "id": "f6eacf55",
   "metadata": {},
   "outputs": [
    {
     "name": "stdout",
     "output_type": "stream",
     "text": [
      "            Statistic Label  Year         Sex Criteria for Projection    UNIT  \\\n",
      "0   Projected Annual Births  2023  Both sexes             Method - M1  Number   \n",
      "1   Projected Annual Births  2024  Both sexes             Method - M1  Number   \n",
      "2   Projected Annual Births  2025  Both sexes             Method - M1  Number   \n",
      "3   Projected Annual Births  2026  Both sexes             Method - M1  Number   \n",
      "4   Projected Annual Births  2027  Both sexes             Method - M1  Number   \n",
      "5   Projected Annual Births  2028  Both sexes             Method - M1  Number   \n",
      "6   Projected Annual Births  2029  Both sexes             Method - M1  Number   \n",
      "7   Projected Annual Births  2030  Both sexes             Method - M1  Number   \n",
      "8   Projected Annual Births  2031  Both sexes             Method - M1  Number   \n",
      "9   Projected Annual Births  2032  Both sexes             Method - M1  Number   \n",
      "10  Projected Annual Births  2033  Both sexes             Method - M1  Number   \n",
      "11  Projected Annual Births  2034  Both sexes             Method - M1  Number   \n",
      "12  Projected Annual Births  2035  Both sexes             Method - M1  Number   \n",
      "13  Projected Annual Births  2036  Both sexes             Method - M1  Number   \n",
      "14  Projected Annual Births  2037  Both sexes             Method - M1  Number   \n",
      "15  Projected Annual Births  2038  Both sexes             Method - M1  Number   \n",
      "16  Projected Annual Births  2039  Both sexes             Method - M1  Number   \n",
      "17  Projected Annual Births  2040  Both sexes             Method - M1  Number   \n",
      "18  Projected Annual Births  2041  Both sexes             Method - M1  Number   \n",
      "19  Projected Annual Births  2042  Both sexes             Method - M1  Number   \n",
      "20  Projected Annual Births  2043  Both sexes             Method - M1  Number   \n",
      "21  Projected Annual Births  2044  Both sexes             Method - M1  Number   \n",
      "22  Projected Annual Births  2045  Both sexes             Method - M1  Number   \n",
      "23  Projected Annual Births  2046  Both sexes             Method - M1  Number   \n",
      "24  Projected Annual Births  2047  Both sexes             Method - M1  Number   \n",
      "25  Projected Annual Births  2048  Both sexes             Method - M1  Number   \n",
      "26  Projected Annual Births  2049  Both sexes             Method - M1  Number   \n",
      "27  Projected Annual Births  2050  Both sexes             Method - M1  Number   \n",
      "28  Projected Annual Births  2051  Both sexes             Method - M1  Number   \n",
      "29  Projected Annual Births  2052  Both sexes             Method - M1  Number   \n",
      "30  Projected Annual Births  2053  Both sexes             Method - M1  Number   \n",
      "31  Projected Annual Births  2054  Both sexes             Method - M1  Number   \n",
      "32  Projected Annual Births  2055  Both sexes             Method - M1  Number   \n",
      "33  Projected Annual Births  2056  Both sexes             Method - M1  Number   \n",
      "34  Projected Annual Births  2057  Both sexes             Method - M1  Number   \n",
      "\n",
      "    VALUE  \n",
      "0   57537  \n",
      "1   55528  \n",
      "2   55292  \n",
      "3   55032  \n",
      "4   54462  \n",
      "5   53942  \n",
      "6   53622  \n",
      "7   53476  \n",
      "8   53357  \n",
      "9   53218  \n",
      "10  53129  \n",
      "11  53194  \n",
      "12  53332  \n",
      "13  53421  \n",
      "14  53501  \n",
      "15  53499  \n",
      "16  54179  \n",
      "17  54811  \n",
      "18  55370  \n",
      "19  55890  \n",
      "20  56249  \n",
      "21  56473  \n",
      "22  56566  \n",
      "23  56568  \n",
      "24  56490  \n",
      "25  56279  \n",
      "26  55900  \n",
      "27  55432  \n",
      "28  54912  \n",
      "29  54364  \n",
      "30  53854  \n",
      "31  53360  \n",
      "32  52839  \n",
      "33  52340  \n",
      "34  51897  \n"
     ]
    }
   ],
   "source": [
    "filename = 'projectedbirths-cso.csv'\n",
    "df = pd.read_csv(filename)\n",
    "\n",
    "print(df)"
   ]
  },
  {
   "cell_type": "markdown",
   "id": "5b0210bb",
   "metadata": {},
   "source": [
    "# 2: Identify the data I want to work with"
   ]
  },
  {
   "cell_type": "markdown",
   "id": "e8fa201e",
   "metadata": {},
   "source": [
    "#### I used the iloc function to identify which columns I would like to plot out"
   ]
  },
  {
   "cell_type": "code",
   "execution_count": 3,
   "id": "3ecc37fa",
   "metadata": {},
   "outputs": [],
   "source": [
    "number_of_births = df.iloc[:,5]\n",
    "\n",
    "year = df.iloc[:,1]"
   ]
  },
  {
   "cell_type": "markdown",
   "id": "5a5ca3ce",
   "metadata": {},
   "source": [
    "# 3. Plot the data"
   ]
  },
  {
   "cell_type": "markdown",
   "id": "44dfcd98",
   "metadata": {},
   "source": [
    "#### I used Matplotlib (Pyplot) to create plots of the data"
   ]
  },
  {
   "cell_type": "code",
   "execution_count": 12,
   "id": "f0374a7a",
   "metadata": {},
   "outputs": [
    {
     "data": {
      "image/png": "[encoded data removed]",
      "text/plain": [
       "<Figure size 640x480 with 1 Axes>"
      ]
     },
     "metadata": {},
     "output_type": "display_data"
    }
   ],
   "source": [
    "plt.bar(year, number_of_births)\n",
    "\n",
    "plt.xlabel('Year')\n",
    "plt.ylabel('Number of Births')\n",
    "plt.title('Projected Births in Ireland (2023-2057) according to CSO')\n",
    "plt.savefig('barchart_projected_births.png')"
   ]
  },
  {
   "cell_type": "markdown",
   "id": "7251d795",
   "metadata": {},
   "source": []
  }
 ],
 "metadata": {
  "kernelspec": {
   "display_name": "base",
   "language": "python",
   "name": "python3"
  },
  "language_info": {
   "codemirror_mode": {
    "name": "ipython",
    "version": 3
   },
   "file_extension": ".py",
   "mimetype": "text/x-python",
   "name": "python",
   "nbconvert_exporter": "python",
   "pygments_lexer": "ipython3",
   "version": "3.12.7"
  }
 },
 "nbformat": 4,
 "nbformat_minor": 5
}
